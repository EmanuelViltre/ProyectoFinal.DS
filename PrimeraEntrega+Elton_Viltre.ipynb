{
  "nbformat": 4,
  "nbformat_minor": 0,
  "metadata": {
    "colab": {
      "provenance": [],
      "collapsed_sections": [],
      "include_colab_link": true
    },
    "kernelspec": {
      "name": "python3",
      "display_name": "Python 3"
    },
    "language_info": {
      "name": "python"
    }
  },
  "cells": [
    {
      "cell_type": "markdown",
      "metadata": {
        "id": "view-in-github",
        "colab_type": "text"
      },
      "source": [
        "<a href=\"https://colab.research.google.com/github/EmanuelViltre/ProyectoFinal.DS/blob/main/PrimeraEntrega%2BElton_Viltre.ipynb\" target=\"_parent\"><img src=\"https://colab.research.google.com/assets/colab-badge.svg\" alt=\"Open In Colab\"/></a>"
      ]
    },
    {
      "cell_type": "markdown",
      "source": [
        "# **Introducción**\n",
        "\n",
        "\n",
        "1.   Niveles de aplicación.\n",
        "2.   Contexto comercial.\n",
        "3.   Contexto analítico.\n",
        "4.   Preguntas a resolver.\n",
        "\n"
      ],
      "metadata": {
        "id": "XgKSH9UUUnGf"
      }
    },
    {
      "cell_type": "markdown",
      "source": [
        "**Nivel de aplicación:** El análisis se encuentra orientado a ser utilizado a nivel táctico, es decir,\n",
        "por los Lideres de la empresa o aquellos que tomen las decisiones. \n",
        "El análisis contempla la necesidad del analista de obtener una visión general del nuevo mercado donde se quiere incorporar. Tomando como objetivo el poder comprender a profundidad las verticales de la produccion automotriz y poder diseñar de acción."
      ],
      "metadata": {
        "id": "1OuN1rrwywcb"
      }
    },
    {
      "cell_type": "markdown",
      "source": [
        "**Contexto Comercial:** La empresa que analizamos los datos quiere introducirse al sector automotriz, es un mercado nuevo para ellos  y necesita una estimación de exactamente qué variables afectan los precios de los automóviles. \n",
        "En este análisis determinaremos qué tipo y que caracteristicas deberia tener un auto para mantener un costo bajo.\n",
        "\n",
        "\n",
        "\n",
        "\n"
      ],
      "metadata": {
        "id": "7ZgZRwoOV1aF"
      }
    },
    {
      "cell_type": "markdown",
      "source": [
        "\n",
        "**Contexto analítico.** Se proporciona un archivo CSV que contiene detalles sobre cada marca de vehiculo, caracteristicas del mismo, fabricante, etc. Realizaremos las siguientes tareas con los datos:\n",
        "\n",
        "Extraer datos, leer, transformar, preparar datos para su visualización, realizar análisis y construir visualizaciones de los datos para identificar patrones en el conjunto de datos."
      ],
      "metadata": {
        "id": "g9TFbPG9Y3bi"
      }
    },
    {
      "cell_type": "markdown",
      "source": [
        "\n",
        "**Preguntas a resolver.** El cliente tiene un conjunto específico de preguntas a las que le gustaría obtener respuestas. Proporcionaremos visualizaciones para sustentar nuestras hipotesis frente a las siguientes sentencias:\n",
        "\n",
        "*   ¿Qué variables son significativas para predecir el precio de un automóvil?\n",
        "*   ¿Qué tan bien describen esas variables el precio de un automóvil?\n",
        "*   ¿Cual es un auto “ideal” para salir al mercado que no conocemos?\n",
        "*   ¿Cuáles son los vehículos mas baratos y cuales son sus características?\n",
        "*   ¿Qué hace la competencia? "
      ],
      "metadata": {
        "id": "XcSQQUPhY647"
      }
    },
    {
      "cell_type": "markdown",
      "source": [
        "# **Carga de datos y librerías a utilizar**"
      ],
      "metadata": {
        "id": "qOwCvgcAZx7n"
      }
    },
    {
      "cell_type": "code",
      "execution_count": null,
      "metadata": {
        "id": "hVG_g69XKkp0"
      },
      "outputs": [],
      "source": [
        "import matplotlib as mpl\n",
        "import numpy as np\n",
        "import matplotlib.pyplot as plt\n",
        "import seaborn as sns\n",
        "import pandas as pd\n",
        "from matplotlib import cm\n",
        "from matplotlib import colors\n",
        "import statsmodels.api as sm\n",
        "from sklearn import datasets, linear_model\n",
        "from sklearn.metrics import mean_squared_error, r2_score\n",
        "from sklearn.model_selection import train_test_split\n",
        "from sklearn.linear_model import LinearRegression\n",
        "from sklearn.metrics import mean_absolute_error\n",
        "\n",
        "\n",
        "mpl.style.use('bmh')"
      ]
    },
    {
      "cell_type": "code",
      "source": [
        "from google.colab import files\n",
        "files.upload ()"
      ],
      "metadata": {
        "id": "06CUkvYBKtP_",
        "colab": {
          "base_uri": "https://localhost:8080/",
          "height": 1000
        },
        "outputId": "379b4829-d41d-4633-c0d1-7290db956d84"
      },
      "execution_count": null,
      "outputs": [
        {
          "output_type": "display_data",
          "data": {
            "text/plain": [
              "<IPython.core.display.HTML object>"
            ],
            "text/html": [
              "\n",
              "     <input type=\"file\" id=\"files-2d925884-438e-4776-8b86-cd9ef0503cdb\" name=\"files[]\" multiple disabled\n",
              "        style=\"border:none\" />\n",
              "     <output id=\"result-2d925884-438e-4776-8b86-cd9ef0503cdb\">\n",
              "      Upload widget is only available when the cell has been executed in the\n",
              "      current browser session. Please rerun this cell to enable.\n",
              "      </output>\n",
              "      <script>// Copyright 2017 Google LLC\n",
              "//\n",
              "// Licensed under the Apache License, Version 2.0 (the \"License\");\n",
              "// you may not use this file except in compliance with the License.\n",
              "// You may obtain a copy of the License at\n",
              "//\n",
              "//      http://www.apache.org/licenses/LICENSE-2.0\n",
              "//\n",
              "// Unless required by applicable law or agreed to in writing, software\n",
              "// distributed under the License is distributed on an \"AS IS\" BASIS,\n",
              "// WITHOUT WARRANTIES OR CONDITIONS OF ANY KIND, either express or implied.\n",
              "// See the License for the specific language governing permissions and\n",
              "// limitations under the License.\n",
              "\n",
              "/**\n",
              " * @fileoverview Helpers for google.colab Python module.\n",
              " */\n",
              "(function(scope) {\n",
              "function span(text, styleAttributes = {}) {\n",
              "  const element = document.createElement('span');\n",
              "  element.textContent = text;\n",
              "  for (const key of Object.keys(styleAttributes)) {\n",
              "    element.style[key] = styleAttributes[key];\n",
              "  }\n",
              "  return element;\n",
              "}\n",
              "\n",
              "// Max number of bytes which will be uploaded at a time.\n",
              "const MAX_PAYLOAD_SIZE = 100 * 1024;\n",
              "\n",
              "function _uploadFiles(inputId, outputId) {\n",
              "  const steps = uploadFilesStep(inputId, outputId);\n",
              "  const outputElement = document.getElementById(outputId);\n",
              "  // Cache steps on the outputElement to make it available for the next call\n",
              "  // to uploadFilesContinue from Python.\n",
              "  outputElement.steps = steps;\n",
              "\n",
              "  return _uploadFilesContinue(outputId);\n",
              "}\n",
              "\n",
              "// This is roughly an async generator (not supported in the browser yet),\n",
              "// where there are multiple asynchronous steps and the Python side is going\n",
              "// to poll for completion of each step.\n",
              "// This uses a Promise to block the python side on completion of each step,\n",
              "// then passes the result of the previous step as the input to the next step.\n",
              "function _uploadFilesContinue(outputId) {\n",
              "  const outputElement = document.getElementById(outputId);\n",
              "  const steps = outputElement.steps;\n",
              "\n",
              "  const next = steps.next(outputElement.lastPromiseValue);\n",
              "  return Promise.resolve(next.value.promise).then((value) => {\n",
              "    // Cache the last promise value to make it available to the next\n",
              "    // step of the generator.\n",
              "    outputElement.lastPromiseValue = value;\n",
              "    return next.value.response;\n",
              "  });\n",
              "}\n",
              "\n",
              "/**\n",
              " * Generator function which is called between each async step of the upload\n",
              " * process.\n",
              " * @param {string} inputId Element ID of the input file picker element.\n",
              " * @param {string} outputId Element ID of the output display.\n",
              " * @return {!Iterable<!Object>} Iterable of next steps.\n",
              " */\n",
              "function* uploadFilesStep(inputId, outputId) {\n",
              "  const inputElement = document.getElementById(inputId);\n",
              "  inputElement.disabled = false;\n",
              "\n",
              "  const outputElement = document.getElementById(outputId);\n",
              "  outputElement.innerHTML = '';\n",
              "\n",
              "  const pickedPromise = new Promise((resolve) => {\n",
              "    inputElement.addEventListener('change', (e) => {\n",
              "      resolve(e.target.files);\n",
              "    });\n",
              "  });\n",
              "\n",
              "  const cancel = document.createElement('button');\n",
              "  inputElement.parentElement.appendChild(cancel);\n",
              "  cancel.textContent = 'Cancel upload';\n",
              "  const cancelPromise = new Promise((resolve) => {\n",
              "    cancel.onclick = () => {\n",
              "      resolve(null);\n",
              "    };\n",
              "  });\n",
              "\n",
              "  // Wait for the user to pick the files.\n",
              "  const files = yield {\n",
              "    promise: Promise.race([pickedPromise, cancelPromise]),\n",
              "    response: {\n",
              "      action: 'starting',\n",
              "    }\n",
              "  };\n",
              "\n",
              "  cancel.remove();\n",
              "\n",
              "  // Disable the input element since further picks are not allowed.\n",
              "  inputElement.disabled = true;\n",
              "\n",
              "  if (!files) {\n",
              "    return {\n",
              "      response: {\n",
              "        action: 'complete',\n",
              "      }\n",
              "    };\n",
              "  }\n",
              "\n",
              "  for (const file of files) {\n",
              "    const li = document.createElement('li');\n",
              "    li.append(span(file.name, {fontWeight: 'bold'}));\n",
              "    li.append(span(\n",
              "        `(${file.type || 'n/a'}) - ${file.size} bytes, ` +\n",
              "        `last modified: ${\n",
              "            file.lastModifiedDate ? file.lastModifiedDate.toLocaleDateString() :\n",
              "                                    'n/a'} - `));\n",
              "    const percent = span('0% done');\n",
              "    li.appendChild(percent);\n",
              "\n",
              "    outputElement.appendChild(li);\n",
              "\n",
              "    const fileDataPromise = new Promise((resolve) => {\n",
              "      const reader = new FileReader();\n",
              "      reader.onload = (e) => {\n",
              "        resolve(e.target.result);\n",
              "      };\n",
              "      reader.readAsArrayBuffer(file);\n",
              "    });\n",
              "    // Wait for the data to be ready.\n",
              "    let fileData = yield {\n",
              "      promise: fileDataPromise,\n",
              "      response: {\n",
              "        action: 'continue',\n",
              "      }\n",
              "    };\n",
              "\n",
              "    // Use a chunked sending to avoid message size limits. See b/62115660.\n",
              "    let position = 0;\n",
              "    do {\n",
              "      const length = Math.min(fileData.byteLength - position, MAX_PAYLOAD_SIZE);\n",
              "      const chunk = new Uint8Array(fileData, position, length);\n",
              "      position += length;\n",
              "\n",
              "      const base64 = btoa(String.fromCharCode.apply(null, chunk));\n",
              "      yield {\n",
              "        response: {\n",
              "          action: 'append',\n",
              "          file: file.name,\n",
              "          data: base64,\n",
              "        },\n",
              "      };\n",
              "\n",
              "      let percentDone = fileData.byteLength === 0 ?\n",
              "          100 :\n",
              "          Math.round((position / fileData.byteLength) * 100);\n",
              "      percent.textContent = `${percentDone}% done`;\n",
              "\n",
              "    } while (position < fileData.byteLength);\n",
              "  }\n",
              "\n",
              "  // All done.\n",
              "  yield {\n",
              "    response: {\n",
              "      action: 'complete',\n",
              "    }\n",
              "  };\n",
              "}\n",
              "\n",
              "scope.google = scope.google || {};\n",
              "scope.google.colab = scope.google.colab || {};\n",
              "scope.google.colab._files = {\n",
              "  _uploadFiles,\n",
              "  _uploadFilesContinue,\n",
              "};\n",
              "})(self);\n",
              "</script> "
            ]
          },
          "metadata": {}
        },
        {
          "output_type": "stream",
          "name": "stdout",
          "text": [
            "Saving scrap price.csv to scrap price.csv\n"
          ]
        },
        {
          "output_type": "execute_result",
          "data": {
            "text/plain": [
              "{'scrap price.csv': b'ID,symboling,name,fueltypes,aspiration,doornumbers,carbody,drivewheels,enginelocation,wheelbase,carlength,carwidth,carheight,curbweight,enginetype,cylindernumber,enginesize,fuelsystem,boreratio,stroke,compressionratio,horsepower,peakrpm,citympg,highwaympg,price\\r\\n1,3,alfa-romero giulia,gas,std,two,convertible,rwd,front,88.6,168.8,64.1,48.8,2548,dohc,four,130,mpfi,3.47,2.68,9,111,5000,21,27,13495\\r\\n2,3,alfa-romero stelvio,gas,std,two,convertible,rwd,front,88.6,168.8,64.1,48.8,2548,dohc,four,130,mpfi,3.47,2.68,9,111,5000,21,27,16500\\r\\n3,1,alfa-romero Quadrifoglio,gas,std,two,hatchback,rwd,front,94.5,171.2,65.5,52.4,2823,ohcv,six,152,mpfi,2.68,3.47,9,154,5000,19,26,16500\\r\\n4,2,audi 100 ls,gas,std,four,sedan,fwd,front,99.8,176.6,66.2,54.3,2337,ohc,four,109,mpfi,3.19,3.4,10,102,5500,24,30,13950\\r\\n5,2,audi 100ls,gas,std,four,sedan,4wd,front,99.4,176.6,66.4,54.3,2824,ohc,five,136,mpfi,3.19,3.4,8,115,5500,18,22,17450\\r\\n6,2,audi fox,gas,std,two,sedan,fwd,front,99.8,177.3,66.3,53.1,2507,ohc,five,136,mpfi,3.19,3.4,8.5,110,5500,19,25,15250\\r\\n7,1,audi 100ls,gas,std,four,sedan,fwd,front,105.8,192.7,71.4,55.7,2844,ohc,five,136,mpfi,3.19,3.4,8.5,110,5500,19,25,17710\\r\\n8,1,audi 5000,gas,std,four,wagon,fwd,front,105.8,192.7,71.4,55.7,2954,ohc,five,136,mpfi,3.19,3.4,8.5,110,5500,19,25,18920\\r\\n9,1,audi 4000,gas,turbo,four,sedan,fwd,front,105.8,192.7,71.4,55.9,3086,ohc,five,131,mpfi,3.13,3.4,8.3,140,5500,17,20,23875\\r\\n10,0,audi 5000s (diesel),gas,turbo,two,hatchback,4wd,front,99.5,178.2,67.9,52,3053,ohc,five,131,mpfi,3.13,3.4,7,160,5500,16,22,17859.167\\r\\n11,2,bmw 320i,gas,std,two,sedan,rwd,front,101.2,176.8,64.8,54.3,2395,ohc,four,108,mpfi,3.5,2.8,8.8,101,5800,23,29,16430\\r\\n12,0,bmw 320i,gas,std,four,sedan,rwd,front,101.2,176.8,64.8,54.3,2395,ohc,four,108,mpfi,3.5,2.8,8.8,101,5800,23,29,16925\\r\\n13,0,bmw x1,gas,std,two,sedan,rwd,front,101.2,176.8,64.8,54.3,2710,ohc,six,164,mpfi,3.31,3.19,9,121,4250,21,28,20970\\r\\n14,0,bmw x3,gas,std,four,sedan,rwd,front,101.2,176.8,64.8,54.3,2765,ohc,six,164,mpfi,3.31,3.19,9,121,4250,21,28,21105\\r\\n15,1,bmw z4,gas,std,four,sedan,rwd,front,103.5,189,66.9,55.7,3055,ohc,six,164,mpfi,3.31,3.19,9,121,4250,20,25,24565\\r\\n16,0,bmw x4,gas,std,four,sedan,rwd,front,103.5,189,66.9,55.7,3230,ohc,six,209,mpfi,3.62,3.39,8,182,5400,16,22,30760\\r\\n17,0,bmw x5,gas,std,two,sedan,rwd,front,103.5,193.8,67.9,53.7,3380,ohc,six,209,mpfi,3.62,3.39,8,182,5400,16,22,41315\\r\\n18,0,bmw x3,gas,std,four,sedan,rwd,front,110,197,70.9,56.3,3505,ohc,six,209,mpfi,3.62,3.39,8,182,5400,15,20,36880\\r\\n19,2,chevrolet impala,gas,std,two,hatchback,fwd,front,88.4,141.1,60.3,53.2,1488,l,three,61,2bbl,2.91,3.03,9.5,48,5100,47,53,5151\\r\\n20,1,chevrolet monte carlo,gas,std,two,hatchback,fwd,front,94.5,155.9,63.6,52,1874,ohc,four,90,2bbl,3.03,3.11,9.6,70,5400,38,43,6295\\r\\n21,0,chevrolet vega 2300,gas,std,four,sedan,fwd,front,94.5,158.8,63.6,52,1909,ohc,four,90,2bbl,3.03,3.11,9.6,70,5400,38,43,6575\\r\\n22,1,dodge rampage,gas,std,two,hatchback,fwd,front,93.7,157.3,63.8,50.8,1876,ohc,four,90,2bbl,2.97,3.23,9.41,68,5500,37,41,5572\\r\\n23,1,dodge challenger se,gas,std,two,hatchback,fwd,front,93.7,157.3,63.8,50.8,1876,ohc,four,90,2bbl,2.97,3.23,9.4,68,5500,31,38,6377\\r\\n24,1,dodge d200,gas,turbo,two,hatchback,fwd,front,93.7,157.3,63.8,50.8,2128,ohc,four,98,mpfi,3.03,3.39,7.6,102,5500,24,30,7957\\r\\n25,1,dodge monaco (sw),gas,std,four,hatchback,fwd,front,93.7,157.3,63.8,50.6,1967,ohc,four,90,2bbl,2.97,3.23,9.4,68,5500,31,38,6229\\r\\n26,1,dodge colt hardtop,gas,std,four,sedan,fwd,front,93.7,157.3,63.8,50.6,1989,ohc,four,90,2bbl,2.97,3.23,9.4,68,5500,31,38,6692\\r\\n27,1,dodge colt (sw),gas,std,four,sedan,fwd,front,93.7,157.3,63.8,50.6,1989,ohc,four,90,2bbl,2.97,3.23,9.4,68,5500,31,38,7609\\r\\n28,1,dodge coronet custom,gas,turbo,two,sedan,fwd,front,93.7,157.3,63.8,50.6,2191,ohc,four,98,mpfi,3.03,3.39,7.6,102,5500,24,30,8558\\r\\n29,-1,dodge dart custom,gas,std,four,wagon,fwd,front,103.3,174.6,64.6,59.8,2535,ohc,four,122,2bbl,3.34,3.46,8.5,88,5000,24,30,8921\\r\\n30,3,dodge coronet custom (sw),gas,turbo,two,hatchback,fwd,front,95.9,173.2,66.3,50.2,2811,ohc,four,156,mfi,3.6,3.9,7,145,5000,19,24,12964\\r\\n31,2,honda civic,gas,std,two,hatchback,fwd,front,86.6,144.6,63.9,50.8,1713,ohc,four,92,1bbl,2.91,3.41,9.6,58,4800,49,54,6479\\r\\n32,2,honda civic cvcc,gas,std,two,hatchback,fwd,front,86.6,144.6,63.9,50.8,1819,ohc,four,92,1bbl,2.91,3.41,9.2,76,6000,31,38,6855\\r\\n33,1,honda civic,gas,std,two,hatchback,fwd,front,93.7,150,64,52.6,1837,ohc,four,79,1bbl,2.91,3.07,10.1,60,5500,38,42,5399\\r\\n34,1,honda accord cvcc,gas,std,two,hatchback,fwd,front,93.7,150,64,52.6,1940,ohc,four,92,1bbl,2.91,3.41,9.2,76,6000,30,34,6529\\r\\n35,1,honda civic cvcc,gas,std,two,hatchback,fwd,front,93.7,150,64,52.6,1956,ohc,four,92,1bbl,2.91,3.41,9.2,76,6000,30,34,7129\\r\\n36,0,honda accord lx,gas,std,four,sedan,fwd,front,96.5,163.4,64,54.5,2010,ohc,four,92,1bbl,2.91,3.41,9.2,76,6000,30,34,7295\\r\\n37,0,honda civic 1500 gl,gas,std,four,wagon,fwd,front,96.5,157.1,63.9,58.3,2024,ohc,four,92,1bbl,2.92,3.41,9.2,76,6000,30,34,7295\\r\\n38,0,honda accord,gas,std,two,hatchback,fwd,front,96.5,167.5,65.2,53.3,2236,ohc,four,110,1bbl,3.15,3.58,9,86,5800,27,33,7895\\r\\n39,0,honda civic 1300,gas,std,two,hatchback,fwd,front,96.5,167.5,65.2,53.3,2289,ohc,four,110,1bbl,3.15,3.58,9,86,5800,27,33,9095\\r\\n40,0,honda prelude,gas,std,four,sedan,fwd,front,96.5,175.4,65.2,54.1,2304,ohc,four,110,1bbl,3.15,3.58,9,86,5800,27,33,8845\\r\\n41,0,honda accord,gas,std,four,sedan,fwd,front,96.5,175.4,62.5,54.1,2372,ohc,four,110,1bbl,3.15,3.58,9,86,5800,27,33,10295\\r\\n42,0,honda civic,gas,std,four,sedan,fwd,front,96.5,175.4,65.2,54.1,2465,ohc,four,110,mpfi,3.15,3.58,9,101,5800,24,28,12945\\r\\n43,1,honda civic (auto),gas,std,two,sedan,fwd,front,96.5,169.1,66,51,2293,ohc,four,110,2bbl,3.15,3.58,9.1,100,5500,25,31,10345\\r\\n44,0,isuzu MU-X,gas,std,four,sedan,rwd,front,94.3,170.7,61.8,53.5,2337,ohc,four,111,2bbl,3.31,3.23,8.5,78,4800,24,29,6785\\r\\n45,1,isuzu D-Max ,gas,std,two,sedan,fwd,front,94.5,155.9,63.6,52,1874,ohc,four,90,2bbl,3.03,3.11,9.6,70,5400,38,43,8916.5\\r\\n46,0,isuzu D-Max V-Cross,gas,std,four,sedan,fwd,front,94.5,155.9,63.6,52,1909,ohc,four,90,2bbl,3.03,3.11,9.6,70,5400,38,43,8916.5\\r\\n47,2,isuzu D-Max ,gas,std,two,hatchback,rwd,front,96,172.6,65.2,51.4,2734,ohc,four,119,spfi,3.43,3.23,9.2,90,5000,24,29,11048\\r\\n48,0,jaguar xj,gas,std,four,sedan,rwd,front,113,199.6,69.6,52.8,4066,dohc,six,258,mpfi,3.63,4.17,8.1,176,4750,15,19,32250\\r\\n49,0,jaguar xf,gas,std,four,sedan,rwd,front,113,199.6,69.6,52.8,4066,dohc,six,258,mpfi,3.63,4.17,8.1,176,4750,15,19,35550\\r\\n50,0,jaguar xk,gas,std,two,sedan,rwd,front,102,191.7,70.6,47.8,3950,ohcv,twelve,326,mpfi,3.54,2.76,11.5,262,5000,13,17,36000\\r\\n51,1,maxda rx3,gas,std,two,hatchback,fwd,front,93.1,159.1,64.2,54.1,1890,ohc,four,91,2bbl,3.03,3.15,9,68,5000,30,31,5195\\r\\n52,1,maxda glc deluxe,gas,std,two,hatchback,fwd,front,93.1,159.1,64.2,54.1,1900,ohc,four,91,2bbl,3.03,3.15,9,68,5000,31,38,6095\\r\\n53,1,mazda rx2 coupe,gas,std,two,hatchback,fwd,front,93.1,159.1,64.2,54.1,1905,ohc,four,91,2bbl,3.03,3.15,9,68,5000,31,38,6795\\r\\n54,1,mazda rx-4,gas,std,four,sedan,fwd,front,93.1,166.8,64.2,54.1,1945,ohc,four,91,2bbl,3.03,3.15,9,68,5000,31,38,6695\\r\\n55,1,mazda glc deluxe,gas,std,four,sedan,fwd,front,93.1,166.8,64.2,54.1,1950,ohc,four,91,2bbl,3.08,3.15,9,68,5000,31,38,7395\\r\\n56,3,mazda 626,gas,std,two,hatchback,rwd,front,95.3,169,65.7,49.6,2380,rotor,two,70,4bbl,3.33,3.255,9.4,101,6000,17,23,10945\\r\\n57,3,mazda glc,gas,std,two,hatchback,rwd,front,95.3,169,65.7,49.6,2380,rotor,two,70,4bbl,3.33,3.255,9.4,101,6000,17,23,11845\\r\\n58,3,mazda rx-7 gs,gas,std,two,hatchback,rwd,front,95.3,169,65.7,49.6,2385,rotor,two,70,4bbl,3.33,3.255,9.4,101,6000,17,23,13645\\r\\n59,3,mazda glc 4,gas,std,two,hatchback,rwd,front,95.3,169,65.7,49.6,2500,rotor,two,80,mpfi,3.33,3.255,9.4,135,6000,16,23,15645\\r\\n60,1,mazda 626,gas,std,two,hatchback,fwd,front,98.8,177.8,66.5,53.7,2385,ohc,four,122,2bbl,3.39,3.39,8.6,84,4800,26,32,8845\\r\\n61,0,mazda glc custom l,gas,std,four,sedan,fwd,front,98.8,177.8,66.5,55.5,2410,ohc,four,122,2bbl,3.39,3.39,8.6,84,4800,26,32,8495\\r\\n62,1,mazda glc custom,gas,std,two,hatchback,fwd,front,98.8,177.8,66.5,53.7,2385,ohc,four,122,2bbl,3.39,3.39,8.6,84,4800,26,32,10595\\r\\n63,0,mazda rx-4,gas,std,four,sedan,fwd,front,98.8,177.8,66.5,55.5,2410,ohc,four,122,2bbl,3.39,3.39,8.6,84,4800,26,32,10245\\r\\n64,0,mazda glc deluxe,diesel,std,four,sedan,fwd,front,98.8,177.8,66.5,55.5,2443,ohc,four,122,idi,3.39,3.39,22.7,64,4650,36,42,10795\\r\\n65,0,mazda 626,gas,std,four,hatchback,fwd,front,98.8,177.8,66.5,55.5,2425,ohc,four,122,2bbl,3.39,3.39,8.6,84,4800,26,32,11245\\r\\n66,0,mazda glc,gas,std,four,sedan,rwd,front,104.9,175,66.1,54.4,2670,ohc,four,140,mpfi,3.76,3.16,8,120,5000,19,27,18280\\r\\n67,0,mazda rx-7 gs,diesel,std,four,sedan,rwd,front,104.9,175,66.1,54.4,2700,ohc,four,134,idi,3.43,3.64,22,72,4200,31,39,18344\\r\\n68,-1,buick electra 225 custom,diesel,turbo,four,sedan,rwd,front,110,190.9,70.3,56.5,3515,ohc,five,183,idi,3.58,3.64,21.5,123,4350,22,25,25552\\r\\n69,-1,buick century luxus (sw),diesel,turbo,four,wagon,rwd,front,110,190.9,70.3,58.7,3750,ohc,five,183,idi,3.58,3.64,21.5,123,4350,22,25,28248\\r\\n70,0,buick century,diesel,turbo,two,hardtop,rwd,front,106.7,187.5,70.3,54.9,3495,ohc,five,183,idi,3.58,3.64,21.5,123,4350,22,25,28176\\r\\n71,-1,buick skyhawk,diesel,turbo,four,sedan,rwd,front,115.6,202.6,71.7,56.3,3770,ohc,five,183,idi,3.58,3.64,21.5,123,4350,22,25,31600\\r\\n72,-1,buick opel isuzu deluxe,gas,std,four,sedan,rwd,front,115.6,202.6,71.7,56.5,3740,ohcv,eight,234,mpfi,3.46,3.1,8.3,155,4750,16,18,34184\\r\\n73,3,buick skylark,gas,std,two,convertible,rwd,front,96.6,180.3,70.5,50.8,3685,ohcv,eight,234,mpfi,3.46,3.1,8.3,155,4750,16,18,35056\\r\\n74,0,buick century special,gas,std,four,sedan,rwd,front,120.9,208.1,71.7,56.7,3900,ohcv,eight,308,mpfi,3.8,3.35,8,184,4500,14,16,40960\\r\\n75,1,buick regal sport coupe (turbo),gas,std,two,hardtop,rwd,front,112,199.2,72,55.4,3715,ohcv,eight,304,mpfi,3.8,3.35,8,184,4500,14,16,45400\\r\\n76,1,mercury cougar,gas,turbo,two,hatchback,rwd,front,102.7,178.4,68,54.8,2910,ohc,four,140,mpfi,3.78,3.12,8,175,5000,19,24,16503\\r\\n77,2,mitsubishi mirage,gas,std,two,hatchback,fwd,front,93.7,157.3,64.4,50.8,1918,ohc,four,92,2bbl,2.97,3.23,9.4,68,5500,37,41,5389\\r\\n78,2,mitsubishi lancer,gas,std,two,hatchback,fwd,front,93.7,157.3,64.4,50.8,1944,ohc,four,92,2bbl,2.97,3.23,9.4,68,5500,31,38,6189\\r\\n79,2,mitsubishi outlander,gas,std,two,hatchback,fwd,front,93.7,157.3,64.4,50.8,2004,ohc,four,92,2bbl,2.97,3.23,9.4,68,5500,31,38,6669\\r\\n80,1,mitsubishi g4,gas,turbo,two,hatchback,fwd,front,93,157.3,63.8,50.8,2145,ohc,four,98,spdi,3.03,3.39,7.6,102,5500,24,30,7689\\r\\n81,3,mitsubishi mirage g4,gas,turbo,two,hatchback,fwd,front,96.3,173,65.4,49.4,2370,ohc,four,110,spdi,3.17,3.46,7.5,116,5500,23,30,9959\\r\\n82,3,mitsubishi g4,gas,std,two,hatchback,fwd,front,96.3,173,65.4,49.4,2328,ohc,four,122,2bbl,3.35,3.46,8.5,88,5000,25,32,8499\\r\\n83,3,mitsubishi outlander,gas,turbo,two,hatchback,fwd,front,95.9,173.2,66.3,50.2,2833,ohc,four,156,spdi,3.58,3.86,7,145,5000,19,24,12629\\r\\n84,3,mitsubishi g4,gas,turbo,two,hatchback,fwd,front,95.9,173.2,66.3,50.2,2921,ohc,four,156,spdi,3.59,3.86,7,145,5000,19,24,14869\\r\\n85,3,mitsubishi mirage g4,gas,turbo,two,hatchback,fwd,front,95.9,173.2,66.3,50.2,2926,ohc,four,156,spdi,3.59,3.86,7,145,5000,19,24,14489\\r\\n86,1,mitsubishi montero,gas,std,four,sedan,fwd,front,96.3,172.4,65.4,51.6,2365,ohc,four,122,2bbl,3.35,3.46,8.5,88,5000,25,32,6989\\r\\n87,1,mitsubishi pajero,gas,std,four,sedan,fwd,front,96.3,172.4,65.4,51.6,2405,ohc,four,122,2bbl,3.35,3.46,8.5,88,5000,25,32,8189\\r\\n88,1,mitsubishi outlander,gas,turbo,four,sedan,fwd,front,96.3,172.4,65.4,51.6,2403,ohc,four,110,spdi,3.17,3.46,7.5,116,5500,23,30,9279\\r\\n89,-1,mitsubishi mirage g4,gas,std,four,sedan,fwd,front,96.3,172.4,65.4,51.6,2403,ohc,four,110,spdi,3.17,3.46,7.5,116,5500,23,30,9279\\r\\n90,1,Nissan versa,gas,std,two,sedan,fwd,front,94.5,165.3,63.8,54.5,1889,ohc,four,97,2bbl,3.15,3.29,9.4,69,5200,31,37,5499\\r\\n91,1,nissan gt-r,diesel,std,two,sedan,fwd,front,94.5,165.3,63.8,54.5,2017,ohc,four,103,idi,2.99,3.47,21.9,55,4800,45,50,7099\\r\\n92,1,nissan rogue,gas,std,two,sedan,fwd,front,94.5,165.3,63.8,54.5,1918,ohc,four,97,2bbl,3.15,3.29,9.4,69,5200,31,37,6649\\r\\n93,1,nissan latio,gas,std,four,sedan,fwd,front,94.5,165.3,63.8,54.5,1938,ohc,four,97,2bbl,3.15,3.29,9.4,69,5200,31,37,6849\\r\\n94,1,nissan titan,gas,std,four,wagon,fwd,front,94.5,170.2,63.8,53.5,2024,ohc,four,97,2bbl,3.15,3.29,9.4,69,5200,31,37,7349\\r\\n95,1,nissan leaf,gas,std,two,sedan,fwd,front,94.5,165.3,63.8,54.5,1951,ohc,four,97,2bbl,3.15,3.29,9.4,69,5200,31,37,7299\\r\\n96,1,nissan juke,gas,std,two,hatchback,fwd,front,94.5,165.6,63.8,53.3,2028,ohc,four,97,2bbl,3.15,3.29,9.4,69,5200,31,37,7799\\r\\n97,1,nissan latio,gas,std,four,sedan,fwd,front,94.5,165.3,63.8,54.5,1971,ohc,four,97,2bbl,3.15,3.29,9.4,69,5200,31,37,7499\\r\\n98,1,nissan note,gas,std,four,wagon,fwd,front,94.5,170.2,63.8,53.5,2037,ohc,four,97,2bbl,3.15,3.29,9.4,69,5200,31,37,7999\\r\\n99,2,nissan clipper,gas,std,two,hardtop,fwd,front,95.1,162.4,63.8,53.3,2008,ohc,four,97,2bbl,3.15,3.29,9.4,69,5200,31,37,8249\\r\\n100,0,nissan rogue,gas,std,four,hatchback,fwd,front,97.2,173.4,65.2,54.7,2324,ohc,four,120,2bbl,3.33,3.47,8.5,97,5200,27,34,8949\\r\\n101,0,nissan nv200,gas,std,four,sedan,fwd,front,97.2,173.4,65.2,54.7,2302,ohc,four,120,2bbl,3.33,3.47,8.5,97,5200,27,34,9549\\r\\n102,0,nissan dayz,gas,std,four,sedan,fwd,front,100.4,181.7,66.5,55.1,3095,ohcv,six,181,mpfi,3.43,3.27,9,152,5200,17,22,13499\\r\\n103,0,nissan fuga,gas,std,four,wagon,fwd,front,100.4,184.6,66.5,56.1,3296,ohcv,six,181,mpfi,3.43,3.27,9,152,5200,17,22,14399\\r\\n104,0,nissan otti,gas,std,four,sedan,fwd,front,100.4,184.6,66.5,55.1,3060,ohcv,six,181,mpfi,3.43,3.27,9,152,5200,19,25,13499\\r\\n105,3,nissan teana,gas,std,two,hatchback,rwd,front,91.3,170.7,67.9,49.7,3071,ohcv,six,181,mpfi,3.43,3.27,9,160,5200,19,25,17199\\r\\n106,3,nissan kicks,gas,turbo,two,hatchback,rwd,front,91.3,170.7,67.9,49.7,3139,ohcv,six,181,mpfi,3.43,3.27,7.8,200,5200,17,23,19699\\r\\n107,1,nissan clipper,gas,std,two,hatchback,rwd,front,99.2,178.5,67.9,49.7,3139,ohcv,six,181,mpfi,3.43,3.27,9,160,5200,19,25,18399\\r\\n108,0,peugeot 504,gas,std,four,sedan,rwd,front,107.9,186.7,68.4,56.7,3020,l,four,120,mpfi,3.46,3.19,8.4,97,5000,19,24,11900\\r\\n109,0,peugeot 304,diesel,turbo,four,sedan,rwd,front,107.9,186.7,68.4,56.7,3197,l,four,152,idi,3.7,3.52,21,95,4150,28,33,13200\\r\\n110,0,peugeot 504 (sw),gas,std,four,wagon,rwd,front,114.2,198.9,68.4,58.7,3230,l,four,120,mpfi,3.46,3.19,8.4,97,5000,19,24,12440\\r\\n111,0,peugeot 504,diesel,turbo,four,wagon,rwd,front,114.2,198.9,68.4,58.7,3430,l,four,152,idi,3.7,3.52,21,95,4150,25,25,13860\\r\\n112,0,peugeot 504,gas,std,four,sedan,rwd,front,107.9,186.7,68.4,56.7,3075,l,four,120,mpfi,3.46,2.19,8.4,95,5000,19,24,15580\\r\\n113,0,peugeot 604sl,diesel,turbo,four,sedan,rwd,front,107.9,186.7,68.4,56.7,3252,l,four,152,idi,3.7,3.52,21,95,4150,28,33,16900\\r\\n114,0,peugeot 504,gas,std,four,wagon,rwd,front,114.2,198.9,68.4,56.7,3285,l,four,120,mpfi,3.46,2.19,8.4,95,5000,19,24,16695\\r\\n115,0,peugeot 505s turbo diesel,diesel,turbo,four,wagon,rwd,front,114.2,198.9,68.4,58.7,3485,l,four,152,idi,3.7,3.52,21,95,4150,25,25,17075\\r\\n116,0,peugeot 504,gas,std,four,sedan,rwd,front,107.9,186.7,68.4,56.7,3075,l,four,120,mpfi,3.46,3.19,8.4,97,5000,19,24,16630\\r\\n117,0,peugeot 504,diesel,turbo,four,sedan,rwd,front,107.9,186.7,68.4,56.7,3252,l,four,152,idi,3.7,3.52,21,95,4150,28,33,17950\\r\\n118,0,peugeot 604sl,gas,turbo,four,sedan,rwd,front,108,186.7,68.3,56,3130,l,four,134,mpfi,3.61,3.21,7,142,5600,18,24,18150\\r\\n119,1,plymouth fury iii,gas,std,two,hatchback,fwd,front,93.7,157.3,63.8,50.8,1918,ohc,four,90,2bbl,2.97,3.23,9.4,68,5500,37,41,5572\\r\\n120,1,plymouth cricket,gas,turbo,two,hatchback,fwd,front,93.7,157.3,63.8,50.8,2128,ohc,four,98,spdi,3.03,3.39,7.6,102,5500,24,30,7957\\r\\n121,1,plymouth fury iii,gas,std,four,hatchback,fwd,front,93.7,157.3,63.8,50.6,1967,ohc,four,90,2bbl,2.97,3.23,9.4,68,5500,31,38,6229\\r\\n122,1,plymouth satellite custom (sw),gas,std,four,sedan,fwd,front,93.7,167.3,63.8,50.8,1989,ohc,four,90,2bbl,2.97,3.23,9.4,68,5500,31,38,6692\\r\\n123,1,plymouth fury gran sedan,gas,std,four,sedan,fwd,front,93.7,167.3,63.8,50.8,2191,ohc,four,98,2bbl,2.97,3.23,9.4,68,5500,31,38,7609\\r\\n124,-1,plymouth valiant,gas,std,four,wagon,fwd,front,103.3,174.6,64.6,59.8,2535,ohc,four,122,2bbl,3.35,3.46,8.5,88,5000,24,30,8921\\r\\n125,3,plymouth duster,gas,turbo,two,hatchback,rwd,front,95.9,173.2,66.3,50.2,2818,ohc,four,156,spdi,3.59,3.86,7,145,5000,19,24,12764\\r\\n126,3,porsche macan,gas,std,two,hatchback,rwd,front,94.5,168.9,68.3,50.2,2778,ohc,four,151,mpfi,3.94,3.11,9.5,143,5500,19,27,22018\\r\\n127,3,porcshce panamera,gas,std,two,hardtop,rwd,rear,89.5,168.9,65,51.6,2756,ohcf,six,194,mpfi,3.74,2.9,9.5,207,5900,17,25,32528\\r\\n128,3,porsche cayenne,gas,std,two,hardtop,rwd,rear,89.5,168.9,65,51.6,2756,ohcf,six,194,mpfi,3.74,2.9,9.5,207,5900,17,25,34028\\r\\n129,3,porsche boxter,gas,std,two,convertible,rwd,rear,89.5,168.9,65,51.6,2800,ohcf,six,194,mpfi,3.74,2.9,9.5,207,5900,17,25,37028\\r\\n130,1,porsche cayenne,gas,std,two,hatchback,rwd,front,98.4,175.7,72.3,50.5,3366,dohcv,eight,203,mpfi,3.94,3.11,10,288,5750,17,28,31400.5\\r\\n131,0,renault 12tl,gas,std,four,wagon,fwd,front,96.1,181.5,66.5,55.2,2579,ohc,four,132,mpfi,3.46,3.9,8.7,90,5100,23,31,9295\\r\\n132,2,renault 5 gtl,gas,std,two,hatchback,fwd,front,96.1,176.8,66.6,50.5,2460,ohc,four,132,mpfi,3.46,3.9,8.7,90,5100,23,31,9895\\r\\n133,3,saab 99e,gas,std,two,hatchback,fwd,front,99.1,186.6,66.5,56.1,2658,ohc,four,121,mpfi,3.54,3.07,9.31,110,5250,21,28,11850\\r\\n134,2,saab 99le,gas,std,four,sedan,fwd,front,99.1,186.6,66.5,56.1,2695,ohc,four,121,mpfi,3.54,3.07,9.3,110,5250,21,28,12170\\r\\n135,3,saab 99le,gas,std,two,hatchback,fwd,front,99.1,186.6,66.5,56.1,2707,ohc,four,121,mpfi,2.54,2.07,9.3,110,5250,21,28,15040\\r\\n136,2,saab 99gle,gas,std,four,sedan,fwd,front,99.1,186.6,66.5,56.1,2758,ohc,four,121,mpfi,3.54,3.07,9.3,110,5250,21,28,15510\\r\\n137,3,saab 99gle,gas,turbo,two,hatchback,fwd,front,99.1,186.6,66.5,56.1,2808,dohc,four,121,mpfi,3.54,3.07,9,160,5500,19,26,18150\\r\\n138,2,saab 99e,gas,turbo,four,sedan,fwd,front,99.1,186.6,66.5,56.1,2847,dohc,four,121,mpfi,3.54,3.07,9,160,5500,19,26,18620\\r\\n139,2,subaru,gas,std,two,hatchback,fwd,front,93.7,156.9,63.4,53.7,2050,ohcf,four,97,2bbl,3.62,2.36,9,69,4900,31,36,5118\\r\\n140,2,subaru dl,gas,std,two,hatchback,fwd,front,93.7,157.9,63.6,53.7,2120,ohcf,four,108,2bbl,3.62,2.64,8.7,73,4400,26,31,7053\\r\\n141,2,subaru dl,gas,std,two,hatchback,4wd,front,93.3,157.3,63.8,55.7,2240,ohcf,four,108,2bbl,3.62,2.64,8.7,73,4400,26,31,7603\\r\\n142,0,subaru,gas,std,four,sedan,fwd,front,97.2,172,65.4,52.5,2145,ohcf,four,108,2bbl,3.62,2.64,9.5,82,4800,32,37,7126\\r\\n143,0,subaru brz,gas,std,four,sedan,fwd,front,97.2,172,65.4,52.5,2190,ohcf,four,108,2bbl,3.62,2.64,9.5,82,4400,28,33,7775\\r\\n144,0,subaru baja,gas,std,four,sedan,fwd,front,97.2,172,65.4,52.5,2340,ohcf,four,108,mpfi,3.62,2.64,9,94,5200,26,32,9960\\r\\n145,0,subaru r1,gas,std,four,sedan,4wd,front,97,172,65.4,54.3,2385,ohcf,four,108,2bbl,3.62,2.64,9,82,4800,24,25,9233\\r\\n146,0,subaru r2,gas,turbo,four,sedan,4wd,front,97,172,65.4,54.3,2510,ohcf,four,108,mpfi,3.62,2.64,7.7,111,4800,24,29,11259\\r\\n147,0,subaru trezia,gas,std,four,wagon,fwd,front,97,173.5,65.4,53,2290,ohcf,four,108,2bbl,3.62,2.64,9,82,4800,28,32,7463\\r\\n148,0,subaru tribeca,gas,std,four,wagon,fwd,front,97,173.5,65.4,53,2455,ohcf,four,108,mpfi,3.62,2.64,9,94,5200,25,31,10198\\r\\n149,0,subaru dl,gas,std,four,wagon,4wd,front,96.9,173.6,65.4,54.9,2420,ohcf,four,108,2bbl,3.62,2.64,9,82,4800,23,29,8013\\r\\n150,0,subaru dl,gas,turbo,four,wagon,4wd,front,96.9,173.6,65.4,54.9,2650,ohcf,four,108,mpfi,3.62,2.64,7.7,111,4800,23,23,11694\\r\\n151,1,toyota corona mark ii,gas,std,two,hatchback,fwd,front,95.7,158.7,63.6,54.5,1985,ohc,four,92,2bbl,3.05,3.03,9,62,4800,35,39,5348\\r\\n152,1,toyota corona,gas,std,two,hatchback,fwd,front,95.7,158.7,63.6,54.5,2040,ohc,four,92,2bbl,3.05,3.03,9,62,4800,31,38,6338\\r\\n153,1,toyota corolla 1200,gas,std,four,hatchback,fwd,front,95.7,158.7,63.6,54.5,2015,ohc,four,92,2bbl,3.05,3.03,9,62,4800,31,38,6488\\r\\n154,0,toyota corona hardtop,gas,std,four,wagon,fwd,front,95.7,169.7,63.6,59.1,2280,ohc,four,92,2bbl,3.05,3.03,9,62,4800,31,37,6918\\r\\n155,0,toyota corolla 1600 (sw),gas,std,four,wagon,4wd,front,95.7,169.7,63.6,59.1,2290,ohc,four,92,2bbl,3.05,3.03,9,62,4800,27,32,7898\\r\\n156,0,toyota carina,gas,std,four,wagon,4wd,front,95.7,169.7,63.6,59.1,3110,ohc,four,92,2bbl,3.05,3.03,9,62,4800,27,32,8778\\r\\n157,0,toyota mark ii,gas,std,four,sedan,fwd,front,95.7,166.3,64.4,53,2081,ohc,four,98,2bbl,3.19,3.03,9,70,4800,30,37,6938\\r\\n158,0,toyota corolla 1200,gas,std,four,hatchback,fwd,front,95.7,166.3,64.4,52.8,2109,ohc,four,98,2bbl,3.19,3.03,9,70,4800,30,37,7198\\r\\n159,0,toyota corona,diesel,std,four,sedan,fwd,front,95.7,166.3,64.4,53,2275,ohc,four,110,idi,3.27,3.35,22.5,56,4500,34,36,7898\\r\\n160,0,toyota corolla,diesel,std,four,hatchback,fwd,front,95.7,166.3,64.4,52.8,2275,ohc,four,110,idi,3.27,3.35,22.5,56,4500,38,47,7788\\r\\n161,0,toyota corona,gas,std,four,sedan,fwd,front,95.7,166.3,64.4,53,2094,ohc,four,98,2bbl,3.19,3.03,9,70,4800,38,47,7738\\r\\n162,0,toyota corolla,gas,std,four,hatchback,fwd,front,95.7,166.3,64.4,52.8,2122,ohc,four,98,2bbl,3.19,3.03,9,70,4800,28,34,8358\\r\\n163,0,toyota mark ii,gas,std,four,sedan,fwd,front,95.7,166.3,64.4,52.8,2140,ohc,four,98,2bbl,3.19,3.03,9,70,4800,28,34,9258\\r\\n164,1,toyota corolla liftback,gas,std,two,sedan,rwd,front,94.5,168.7,64,52.6,2169,ohc,four,98,2bbl,3.19,3.03,9,70,4800,29,34,8058\\r\\n165,1,toyota corona,gas,std,two,hatchback,rwd,front,94.5,168.7,64,52.6,2204,ohc,four,98,2bbl,3.19,3.03,9,70,4800,29,34,8238\\r\\n166,1,toyota celica gt liftback,gas,std,two,sedan,rwd,front,94.5,168.7,64,52.6,2265,dohc,four,98,mpfi,3.24,3.08,9.4,112,6600,26,29,9298\\r\\n167,1,toyota corolla tercel,gas,std,two,hatchback,rwd,front,94.5,168.7,64,52.6,2300,dohc,four,98,mpfi,3.24,3.08,9.4,112,6600,26,29,9538\\r\\n168,2,toyota corona liftback,gas,std,two,hardtop,rwd,front,98.4,176.2,65.6,52,2540,ohc,four,146,mpfi,3.62,3.5,9.3,116,4800,24,30,8449\\r\\n169,2,toyota corolla,gas,std,two,hardtop,rwd,front,98.4,176.2,65.6,52,2536,ohc,four,146,mpfi,3.62,3.5,9.3,116,4800,24,30,9639\\r\\n170,2,toyota starlet,gas,std,two,hatchback,rwd,front,98.4,176.2,65.6,52,2551,ohc,four,146,mpfi,3.62,3.5,9.3,116,4800,24,30,9989\\r\\n171,2,toyota tercel,gas,std,two,hardtop,rwd,front,98.4,176.2,65.6,52,2679,ohc,four,146,mpfi,3.62,3.5,9.3,116,4800,24,30,11199\\r\\n172,2,toyota corolla,gas,std,two,hatchback,rwd,front,98.4,176.2,65.6,52,2714,ohc,four,146,mpfi,3.62,3.5,9.3,116,4800,24,30,11549\\r\\n173,2,toyota cressida,gas,std,two,convertible,rwd,front,98.4,176.2,65.6,53,2975,ohc,four,146,mpfi,3.62,3.5,9.3,116,4800,24,30,17669\\r\\n174,-1,toyota corolla,gas,std,four,sedan,fwd,front,102.4,175.6,66.5,54.9,2326,ohc,four,122,mpfi,3.31,3.54,8.7,92,4200,29,34,8948\\r\\n175,-1,toyota celica gt,diesel,turbo,four,sedan,fwd,front,102.4,175.6,66.5,54.9,2480,ohc,four,110,idi,3.27,3.35,22.5,73,4500,30,33,10698\\r\\n176,-1,toyota corona,gas,std,four,hatchback,fwd,front,102.4,175.6,66.5,53.9,2414,ohc,four,122,mpfi,3.31,3.54,8.7,92,4200,27,32,9988\\r\\n177,-1,toyota corolla,gas,std,four,sedan,fwd,front,102.4,175.6,66.5,54.9,2414,ohc,four,122,mpfi,3.31,3.54,8.7,92,4200,27,32,10898\\r\\n178,-1,toyota mark ii,gas,std,four,hatchback,fwd,front,102.4,175.6,66.5,53.9,2458,ohc,four,122,mpfi,3.31,3.54,8.7,92,4200,27,32,11248\\r\\n179,3,toyota corolla liftback,gas,std,two,hatchback,rwd,front,102.9,183.5,67.7,52,2976,dohc,six,171,mpfi,3.27,3.35,9.3,161,5200,20,24,16558\\r\\n180,3,toyota corona,gas,std,two,hatchback,rwd,front,102.9,183.5,67.7,52,3016,dohc,six,171,mpfi,3.27,3.35,9.3,161,5200,19,24,15998\\r\\n181,-1,toyota starlet,gas,std,four,sedan,rwd,front,104.5,187.8,66.5,54.1,3131,dohc,six,171,mpfi,3.27,3.35,9.2,156,5200,20,24,15690\\r\\n182,-1,toyouta tercel,gas,std,four,wagon,rwd,front,104.5,187.8,66.5,54.1,3151,dohc,six,161,mpfi,3.27,3.35,9.2,156,5200,19,24,15750\\r\\n183,2,vokswagen rabbit,diesel,std,two,sedan,fwd,front,97.3,171.7,65.5,55.7,2261,ohc,four,97,idi,3.01,3.4,23,52,4800,37,46,7775\\r\\n184,2,volkswagen 1131 deluxe sedan,gas,std,two,sedan,fwd,front,97.3,171.7,65.5,55.7,2209,ohc,four,109,mpfi,3.19,3.4,9,85,5250,27,34,7975\\r\\n185,2,volkswagen model 111,diesel,std,four,sedan,fwd,front,97.3,171.7,65.5,55.7,2264,ohc,four,97,idi,3.01,3.4,23,52,4800,37,46,7995\\r\\n186,2,volkswagen type 3,gas,std,four,sedan,fwd,front,97.3,171.7,65.5,55.7,2212,ohc,four,109,mpfi,3.19,3.4,9,85,5250,27,34,8195\\r\\n187,2,volkswagen 411 (sw),gas,std,four,sedan,fwd,front,97.3,171.7,65.5,55.7,2275,ohc,four,109,mpfi,3.19,3.4,9,85,5250,27,34,8495\\r\\n188,2,volkswagen super beetle,diesel,turbo,four,sedan,fwd,front,97.3,171.7,65.5,55.7,2319,ohc,four,97,idi,3.01,3.4,23,68,4500,37,42,9495\\r\\n189,2,volkswagen dasher,gas,std,four,sedan,fwd,front,97.3,171.7,65.5,55.7,2300,ohc,four,109,mpfi,3.19,3.4,10,100,5500,26,32,9995\\r\\n190,3,vw dasher,gas,std,two,convertible,fwd,front,94.5,159.3,64.2,55.6,2254,ohc,four,109,mpfi,3.19,3.4,8.5,90,5500,24,29,11595\\r\\n191,3,vw rabbit,gas,std,two,hatchback,fwd,front,94.5,165.7,64,51.4,2221,ohc,four,109,mpfi,3.19,3.4,8.5,90,5500,24,29,9980\\r\\n192,0,volkswagen rabbit,gas,std,four,sedan,fwd,front,100.4,180.2,66.9,55.1,2661,ohc,five,136,mpfi,3.19,3.4,8.5,110,5500,19,24,13295\\r\\n193,0,volkswagen rabbit custom,diesel,turbo,four,sedan,fwd,front,100.4,180.2,66.9,55.1,2579,ohc,four,97,idi,3.01,3.4,23,68,4500,33,38,13845\\r\\n194,0,volkswagen dasher,gas,std,four,wagon,fwd,front,100.4,183.1,66.9,55.1,2563,ohc,four,109,mpfi,3.19,3.4,9,88,5500,25,31,12290\\r\\n195,-2,volvo 145e (sw),gas,std,four,sedan,rwd,front,104.3,188.8,67.2,56.2,2912,ohc,four,141,mpfi,3.78,3.15,9.5,114,5400,23,28,12940\\r\\n196,-1,volvo 144ea,gas,std,four,wagon,rwd,front,104.3,188.8,67.2,57.5,3034,ohc,four,141,mpfi,3.78,3.15,9.5,114,5400,23,28,13415\\r\\n197,-2,volvo 244dl,gas,std,four,sedan,rwd,front,104.3,188.8,67.2,56.2,2935,ohc,four,141,mpfi,3.78,3.15,9.5,114,5400,24,28,15985\\r\\n198,-1,volvo 245,gas,std,four,wagon,rwd,front,104.3,188.8,67.2,57.5,3042,ohc,four,141,mpfi,3.78,3.15,9.5,114,5400,24,28,16515\\r\\n199,-2,volvo 264gl,gas,turbo,four,sedan,rwd,front,104.3,188.8,67.2,56.2,3045,ohc,four,130,mpfi,3.62,3.15,7.5,162,5100,17,22,18420\\r\\n200,-1,volvo diesel,gas,turbo,four,wagon,rwd,front,104.3,188.8,67.2,57.5,3157,ohc,four,130,mpfi,3.62,3.15,7.5,162,5100,17,22,18950\\r\\n201,-1,volvo 145e (sw),gas,std,four,sedan,rwd,front,109.1,188.8,68.9,55.5,2952,ohc,four,141,mpfi,3.78,3.15,9.5,114,5400,23,28,16845\\r\\n202,-1,volvo 144ea,gas,turbo,four,sedan,rwd,front,109.1,188.8,68.8,55.5,3049,ohc,four,141,mpfi,3.78,3.15,8.7,160,5300,19,25,19045\\r\\n203,-1,volvo 244dl,gas,std,four,sedan,rwd,front,109.1,188.8,68.9,55.5,3012,ohcv,six,173,mpfi,3.58,2.87,8.8,134,5500,18,23,21485\\r\\n204,-1,volvo 246,diesel,turbo,four,sedan,rwd,front,109.1,188.8,68.9,55.5,3217,ohc,six,145,idi,3.01,3.4,23,106,4800,26,27,22470\\r\\n205,-1,volvo 264gl,gas,turbo,four,sedan,rwd,front,109.1,188.8,68.9,55.5,3062,ohc,four,141,mpfi,3.78,3.15,9.5,114,5400,19,25,22625\\r\\n'}"
            ]
          },
          "metadata": {},
          "execution_count": 3
        }
      ]
    },
    {
      "cell_type": "markdown",
      "source": [
        "# **Limpieza de datos**\n",
        "\n",
        "\n",
        "1.   Identificamos si es que DB contiene nulls.\n",
        "2.   Identificamos si es que DB contiene duplicados.\n",
        "3.   Reorganizamos el Index.\n",
        "4.   Modificamos el nombre de los autos ya que en la base de datos contenía modelo y fabricante, a nosotros nos interesa identificar solamente fabricante.\n",
        "5.   Modificamos los errores ortograficos del DB."
      ],
      "metadata": {
        "id": "nsK_HkbtZXJL"
      }
    },
    {
      "cell_type": "code",
      "source": [
        "df_cars=pd.read_csv('scrap price.csv', sep= \",\")\n",
        "print(df_cars.head())"
      ],
      "metadata": {
        "id": "_8W4lKzfKuHG",
        "colab": {
          "base_uri": "https://localhost:8080/"
        },
        "outputId": "48b0a2cf-0839-4711-bfec-477a099ea780"
      },
      "execution_count": null,
      "outputs": [
        {
          "output_type": "stream",
          "name": "stdout",
          "text": [
            "   ID  symboling                      name fueltypes aspiration doornumbers  \\\n",
            "0   1          3        alfa-romero giulia       gas        std         two   \n",
            "1   2          3       alfa-romero stelvio       gas        std         two   \n",
            "2   3          1  alfa-romero Quadrifoglio       gas        std         two   \n",
            "3   4          2               audi 100 ls       gas        std        four   \n",
            "4   5          2                audi 100ls       gas        std        four   \n",
            "\n",
            "       carbody drivewheels enginelocation  wheelbase  ...  enginesize  \\\n",
            "0  convertible         rwd          front       88.6  ...         130   \n",
            "1  convertible         rwd          front       88.6  ...         130   \n",
            "2    hatchback         rwd          front       94.5  ...         152   \n",
            "3        sedan         fwd          front       99.8  ...         109   \n",
            "4        sedan         4wd          front       99.4  ...         136   \n",
            "\n",
            "   fuelsystem  boreratio  stroke compressionratio horsepower  peakrpm citympg  \\\n",
            "0        mpfi       3.47    2.68              9.0        111     5000      21   \n",
            "1        mpfi       3.47    2.68              9.0        111     5000      21   \n",
            "2        mpfi       2.68    3.47              9.0        154     5000      19   \n",
            "3        mpfi       3.19    3.40             10.0        102     5500      24   \n",
            "4        mpfi       3.19    3.40              8.0        115     5500      18   \n",
            "\n",
            "   highwaympg    price  \n",
            "0          27  13495.0  \n",
            "1          27  16500.0  \n",
            "2          26  16500.0  \n",
            "3          30  13950.0  \n",
            "4          22  17450.0  \n",
            "\n",
            "[5 rows x 26 columns]\n"
          ]
        }
      ]
    },
    {
      "cell_type": "code",
      "source": [
        "df_cars.isnull().sum() "
      ],
      "metadata": {
        "id": "zRfDe39TKwOm",
        "colab": {
          "base_uri": "https://localhost:8080/"
        },
        "outputId": "0553aec4-a628-4f2d-d93b-38102be2ffb5"
      },
      "execution_count": null,
      "outputs": [
        {
          "output_type": "execute_result",
          "data": {
            "text/plain": [
              "ID                  0\n",
              "symboling           0\n",
              "name                0\n",
              "fueltypes           0\n",
              "aspiration          0\n",
              "doornumbers         0\n",
              "carbody             0\n",
              "drivewheels         0\n",
              "enginelocation      0\n",
              "wheelbase           0\n",
              "carlength           0\n",
              "carwidth            0\n",
              "carheight           0\n",
              "curbweight          0\n",
              "enginetype          0\n",
              "cylindernumber      0\n",
              "enginesize          0\n",
              "fuelsystem          0\n",
              "boreratio           0\n",
              "stroke              0\n",
              "compressionratio    0\n",
              "horsepower          0\n",
              "peakrpm             0\n",
              "citympg             0\n",
              "highwaympg          0\n",
              "price               0\n",
              "dtype: int64"
            ]
          },
          "metadata": {},
          "execution_count": 5
        }
      ]
    },
    {
      "cell_type": "code",
      "source": [
        "df_cars.duplicated() "
      ],
      "metadata": {
        "id": "euFFwulxKzAB",
        "colab": {
          "base_uri": "https://localhost:8080/"
        },
        "outputId": "7724a18e-0eb3-4c21-b4db-7d42e5c36fe7"
      },
      "execution_count": null,
      "outputs": [
        {
          "output_type": "execute_result",
          "data": {
            "text/plain": [
              "0      False\n",
              "1      False\n",
              "2      False\n",
              "3      False\n",
              "4      False\n",
              "       ...  \n",
              "200    False\n",
              "201    False\n",
              "202    False\n",
              "203    False\n",
              "204    False\n",
              "Length: 205, dtype: bool"
            ]
          },
          "metadata": {},
          "execution_count": 6
        }
      ]
    },
    {
      "cell_type": "code",
      "source": [
        "df_cars.index = df_cars['ID'] \n",
        "df_cars = df_cars.drop('ID', axis='columns')\n",
        "print(df_cars.head())"
      ],
      "metadata": {
        "id": "dNrpfyqpKzY8",
        "colab": {
          "base_uri": "https://localhost:8080/"
        },
        "outputId": "3c7ae5ea-383b-40b2-9248-def8679405e0"
      },
      "execution_count": null,
      "outputs": [
        {
          "output_type": "stream",
          "name": "stdout",
          "text": [
            "    symboling                      name fueltypes aspiration doornumbers  \\\n",
            "ID                                                                         \n",
            "1           3        alfa-romero giulia       gas        std         two   \n",
            "2           3       alfa-romero stelvio       gas        std         two   \n",
            "3           1  alfa-romero Quadrifoglio       gas        std         two   \n",
            "4           2               audi 100 ls       gas        std        four   \n",
            "5           2                audi 100ls       gas        std        four   \n",
            "\n",
            "        carbody drivewheels enginelocation  wheelbase  carlength  ...  \\\n",
            "ID                                                                ...   \n",
            "1   convertible         rwd          front       88.6      168.8  ...   \n",
            "2   convertible         rwd          front       88.6      168.8  ...   \n",
            "3     hatchback         rwd          front       94.5      171.2  ...   \n",
            "4         sedan         fwd          front       99.8      176.6  ...   \n",
            "5         sedan         4wd          front       99.4      176.6  ...   \n",
            "\n",
            "    enginesize  fuelsystem  boreratio stroke compressionratio  horsepower  \\\n",
            "ID                                                                          \n",
            "1          130        mpfi       3.47   2.68              9.0         111   \n",
            "2          130        mpfi       3.47   2.68              9.0         111   \n",
            "3          152        mpfi       2.68   3.47              9.0         154   \n",
            "4          109        mpfi       3.19   3.40             10.0         102   \n",
            "5          136        mpfi       3.19   3.40              8.0         115   \n",
            "\n",
            "   peakrpm  citympg  highwaympg    price  \n",
            "ID                                        \n",
            "1     5000       21          27  13495.0  \n",
            "2     5000       21          27  16500.0  \n",
            "3     5000       19          26  16500.0  \n",
            "4     5500       24          30  13950.0  \n",
            "5     5500       18          22  17450.0  \n",
            "\n",
            "[5 rows x 25 columns]\n"
          ]
        }
      ]
    },
    {
      "cell_type": "code",
      "source": [
        "unique_name = df_cars['name'].apply(lambda x : x.split(' ')[0])                                   "
      ],
      "metadata": {
        "id": "inTG5RuHK2aV"
      },
      "execution_count": null,
      "outputs": []
    },
    {
      "cell_type": "code",
      "source": [
        "df_cars.insert(3,'unique_name', unique_name) "
      ],
      "metadata": {
        "id": "1JgAi5RJLjFu"
      },
      "execution_count": null,
      "outputs": []
    },
    {
      "cell_type": "code",
      "source": [
        "print(df_cars.head())"
      ],
      "metadata": {
        "id": "_TaBJYWJLonV",
        "colab": {
          "base_uri": "https://localhost:8080/"
        },
        "outputId": "9b46dc94-84ba-4bc9-99fc-a4a126a67986"
      },
      "execution_count": null,
      "outputs": [
        {
          "output_type": "stream",
          "name": "stdout",
          "text": [
            "    symboling                      name fueltypes  unique_name aspiration  \\\n",
            "ID                                                                          \n",
            "1           3        alfa-romero giulia       gas  alfa-romero        std   \n",
            "2           3       alfa-romero stelvio       gas  alfa-romero        std   \n",
            "3           1  alfa-romero Quadrifoglio       gas  alfa-romero        std   \n",
            "4           2               audi 100 ls       gas         audi        std   \n",
            "5           2                audi 100ls       gas         audi        std   \n",
            "\n",
            "   doornumbers      carbody drivewheels enginelocation  wheelbase  ...  \\\n",
            "ID                                                                 ...   \n",
            "1          two  convertible         rwd          front       88.6  ...   \n",
            "2          two  convertible         rwd          front       88.6  ...   \n",
            "3          two    hatchback         rwd          front       94.5  ...   \n",
            "4         four        sedan         fwd          front       99.8  ...   \n",
            "5         four        sedan         4wd          front       99.4  ...   \n",
            "\n",
            "    enginesize  fuelsystem  boreratio  stroke compressionratio horsepower  \\\n",
            "ID                                                                          \n",
            "1          130        mpfi       3.47    2.68              9.0        111   \n",
            "2          130        mpfi       3.47    2.68              9.0        111   \n",
            "3          152        mpfi       2.68    3.47              9.0        154   \n",
            "4          109        mpfi       3.19    3.40             10.0        102   \n",
            "5          136        mpfi       3.19    3.40              8.0        115   \n",
            "\n",
            "    peakrpm citympg  highwaympg    price  \n",
            "ID                                        \n",
            "1      5000      21          27  13495.0  \n",
            "2      5000      21          27  16500.0  \n",
            "3      5000      19          26  16500.0  \n",
            "4      5500      24          30  13950.0  \n",
            "5      5500      18          22  17450.0  \n",
            "\n",
            "[5 rows x 26 columns]\n"
          ]
        }
      ]
    },
    {
      "cell_type": "code",
      "source": [
        "df_cars['unique_name'] = df_cars['unique_name'].replace({'maxda': 'mazda', 'nissan': 'Nissan', 'porcshce': 'porsche', 'toyouta': 'toyota', \n",
        "                            'vokswagen': 'volkswagen', 'vw': 'volkswagen'})  "
      ],
      "metadata": {
        "id": "C3yTLlWgeR3M"
      },
      "execution_count": null,
      "outputs": []
    },
    {
      "cell_type": "code",
      "source": [
        "df_cars.drop('name', inplace=True, axis=1) "
      ],
      "metadata": {
        "id": "6KDT1MP3LkS0"
      },
      "execution_count": null,
      "outputs": []
    },
    {
      "cell_type": "markdown",
      "source": [
        "# **Análisis de los datos (EDA)**\n",
        "\n",
        "\n",
        "\n",
        "1.   Rango de precios.\n",
        "2.   Variables que afectan significativamente el precio.\n",
        "3.   Ques es lo que hace la competencia.\n",
        "4.   Agrupación de Variables para entender los precios.\n",
        "5.   Outliers.\n"
      ],
      "metadata": {
        "id": "bawBQECMZot3"
      }
    },
    {
      "cell_type": "markdown",
      "source": [
        "## **Rango de precios**"
      ],
      "metadata": {
        "id": "dcMRL3d_ARLJ"
      }
    },
    {
      "cell_type": "markdown",
      "source": [
        "Una vez realizada la limpieza de datos y dejarlos  listos para el análisis, podemos identificar como primera instancia  que el rango promedio de precios varía entre los valores de 5k a 28k, superando los 30k determinamos aquellos como outliers, como Jaguar, Buick, Porsche, BMW, Marcas de primera línea que no son parte de las aspiraciones principales de la empresa. "
      ],
      "metadata": {
        "id": "CqHed7Z7c5ek"
      }
    },
    {
      "cell_type": "code",
      "source": [
        "plt.boxplot(df_cars['price']) \n",
        "fig = plt.figure(figsize =(10, 7))\n"
      ],
      "metadata": {
        "id": "dVLY4WsYLAZE",
        "colab": {
          "base_uri": "https://localhost:8080/"
        },
        "outputId": "630e2e18-d5a3-4e6b-8971-899ad907be83"
      },
      "execution_count": null,
      "outputs": [
        {
          "output_type": "display_data",
          "data": {
            "text/plain": [
              "<Figure size 432x288 with 1 Axes>"
            ],
            "image/png": "[encoded data removed]"
          },
          "metadata": {
            "needs_background": "light"
          }
        },
        {
          "output_type": "display_data",
          "data": {
            "text/plain": [
              "<Figure size 720x504 with 0 Axes>"
            ]
          },
          "metadata": {}
        }
      ]
    },
    {
      "cell_type": "markdown",
      "source": [
        "## **Variables que afectan significativamente al precio**\n"
      ],
      "metadata": {
        "id": "LJAP0qv9_Uvb"
      }
    },
    {
      "cell_type": "markdown",
      "source": [
        "Las principales variables que son significativas para el precio de un vehículo son **‘horse-power’, 'car-lenght, 'car-width', 'engine-size', 'curb-weight'**.\n",
        "Si bien otras variables hay que tener en cuenta, estas son las principales que generan una diferencia considerable en el precio al momento de cómo se debería estructurar un auto para salir al mercado. \n"
      ],
      "metadata": {
        "id": "AMeqOKYYE1cl"
      }
    },
    {
      "cell_type": "code",
      "source": [
        "plt.figure(figsize=(15,6))\n",
        "sns.heatmap(df_cars.corr(),cmap='coolwarm',annot=True,linewidth=.5)"
      ],
      "metadata": {
        "id": "wtLjm_QoLA3M"
      },
      "execution_count": null,
      "outputs": []
    },
    {
      "cell_type": "markdown",
      "source": [
        "## **Qué es lo que hace la competencia**"
      ],
      "metadata": {
        "id": "e_eNqLNZcBvz"
      }
    },
    {
      "cell_type": "markdown",
      "source": [
        "En el siguiente gráfico podemos observar que hay 5 categorías de vehículos, las cuales las dos principales en producción son Sedan y Hatchback."
      ],
      "metadata": {
        "id": "E1E-SjlIB0cx"
      }
    },
    {
      "cell_type": "code",
      "source": [
        "df_cars.carbody.value_counts().plot(kind='bar',color='b')\n"
      ],
      "metadata": {
        "id": "oh-B5tOyLC-M"
      },
      "execution_count": null,
      "outputs": []
    },
    {
      "cell_type": "markdown",
      "source": [
        "El principal sistema de combustible que utiliza la competencia en los motores de los vehículos que estamos analizando es mpfi, seguido por 2bbl."
      ],
      "metadata": {
        "id": "GzFl1iC5CM-x"
      }
    },
    {
      "cell_type": "code",
      "source": [
        "df_cars.fuelsystem.value_counts().plot(kind='bar',color='b')"
      ],
      "metadata": {
        "id": "eUA9WGRHcU5T"
      },
      "execution_count": null,
      "outputs": []
    },
    {
      "cell_type": "markdown",
      "source": [
        "En el siguiente gráfico podemos observar que el RPM máximo de vehículos domina entre las 5500 y 4800.\n",
        "\n"
      ],
      "metadata": {
        "id": "kpIVVN4kRH9i"
      }
    },
    {
      "cell_type": "code",
      "source": [
        "df_cars.peakrpm.value_counts().plot(kind='bar',color='g')"
      ],
      "metadata": {
        "id": "k9MfPukoT4XS"
      },
      "execution_count": null,
      "outputs": []
    },
    {
      "cell_type": "markdown",
      "source": [
        "En este gráfico claramente la localizacion del motor es frontal.\n"
      ],
      "metadata": {
        "id": "044a64WHECLR"
      }
    },
    {
      "cell_type": "code",
      "source": [
        "df_cars.enginelocation.value_counts().plot(kind='bar',color='b')"
      ],
      "metadata": {
        "id": "aokJIFIIcWoy"
      },
      "execution_count": null,
      "outputs": []
    },
    {
      "cell_type": "markdown",
      "source": [
        "Los vehículos de aspiración \"std\" (Standard) son los que predominan frente a los que poseen Turbo."
      ],
      "metadata": {
        "id": "QrnbAiCYIICn"
      }
    },
    {
      "cell_type": "code",
      "source": [
        "df_cars.aspiration.value_counts().plot(kind='bar',color='b')"
      ],
      "metadata": {
        "id": "ANfPwowgcY8E"
      },
      "execution_count": null,
      "outputs": []
    },
    {
      "cell_type": "markdown",
      "source": [
        "En el siguiente gráfico podemos observar que Toyota es quien lleva la delantera en producción seguido por Nissan. (siendo estos vehiculos de gama media)\n",
        "\n",
        "> \n",
        "\n"
      ],
      "metadata": {
        "id": "Rc9DtTj9IaZ_"
      }
    },
    {
      "cell_type": "code",
      "source": [
        "df_cars.unique_name.value_counts().plot(kind='bar',color='b') "
      ],
      "metadata": {
        "id": "GLJcKPCmMrYv"
      },
      "execution_count": null,
      "outputs": []
    },
    {
      "cell_type": "markdown",
      "source": [
        "En el siguiente gráfico de barras representamos las marcas que se encuentran en el mercado, cada barra representa el volumen de producción de un tipo de vehículo diferenciándolos por colores."
      ],
      "metadata": {
        "id": "xz6sscNyKEhJ"
      }
    },
    {
      "cell_type": "code",
      "source": [
        "sns.displot(df_cars, x=\"unique_name\", hue=\"carbody\", multiple=\"dodge\", height= 10) \n",
        "plt.xticks(rotation=90) \n"
      ],
      "metadata": {
        "id": "imaTUlaXAJXr"
      },
      "execution_count": null,
      "outputs": []
    },
    {
      "cell_type": "markdown",
      "source": [
        "## **Agrupación de Variables para entender los precios**\n",
        "¿Cual es un auto “ideal” para salir al mercado que no conocemos?\n",
        "\n",
        "¿Cuáles son los vehículos más baratos y cuales son sus características?"
      ],
      "metadata": {
        "id": "TracycJ1cK-8"
      }
    },
    {
      "cell_type": "markdown",
      "source": [
        "En el conjunto de gráficos que representamos a continuación, agrupamos las variables por el valor promedio del precio, tomando los valores más bajos ya que nos importa mantener un costo bajo de producción.\n",
        "\n",
        "Analizando diferentes variables contrastandolas con el precio, el vehiculo mas barato seria representado de la siguiente forma:\n",
        "\n",
        "\n",
        "\n",
        "1.   Fuel Type: Gas\n",
        "2.   Aspiration: STD\n",
        "3.   Door Numbers: 2 (No hay demasiada diferencia con 4 puertas, y quizas 4 puertas tenga un valor agregado para el consumidor final)\n",
        "4.   Body Car: Hatchback\n",
        "5.   Drive Wheels: fwd\n",
        "6.   Engine Location: Front\n",
        "7.   Engine type: OHC\n",
        "8.   Cylinder Number: 3 \n",
        "9.   Fuel System: 2bbl\n",
        "\n",
        "\n"
      ],
      "metadata": {
        "id": "6s5WdSa2LTjI"
      }
    },
    {
      "cell_type": "code",
      "source": [
        "plt.figure(figsize=(20,35))\n",
        "j = 1\n",
        "for i  in df_cars.columns:\n",
        "    if df_cars[i].dtype == 'object':\n",
        "        plt.subplot(4,4,j)\n",
        "        x = df_cars.groupby([i])['price'].mean().nsmallest()\n",
        "        x.plot.bar(colormap='Paired')\n",
        "        plt.xticks(rotation=45)\n",
        "        j += 1\n",
        "plt.show()"
      ],
      "metadata": {
        "id": "GQLXOC5soQQR"
      },
      "execution_count": null,
      "outputs": []
    },
    {
      "cell_type": "markdown",
      "source": [
        "## **Outliers**\n",
        "\n",
        "Antes de comenzar a trabajar el modelo, identificamos los Outliers para quitarlos del dataset y asi obtener una mayor precisión ."
      ],
      "metadata": {
        "id": "GXvhpcpvSw2I"
      }
    },
    {
      "cell_type": "code",
      "source": [
        "sns.set_style(\"white\")\n",
        "\n",
        "col2=['symboling', 'curbweight', 'enginesize', 'horsepower', 'peakrpm',\n",
        "       'citympg', 'highwaympg', 'wheelbase', 'carlength', 'carwidth', 'carheight', 'boreratio',\n",
        "       'stroke', 'compressionratio', 'price'] # Variables Numericas\n",
        "\n",
        "plt.figure(figsize=(17,8))\n",
        "n=np.arange(0,17,1)\n",
        "\n",
        "for i,k in zip(col2,n):\n",
        "    plt.subplot(3,5,k+1)\n",
        "    plt.boxplot(df_cars[i])\n",
        "    plt.title(col2[k])\n",
        "    plt.tight_layout()\n",
        " "
      ],
      "metadata": {
        "id": "UEVKKhoE9sEF"
      },
      "execution_count": null,
      "outputs": []
    },
    {
      "cell_type": "markdown",
      "source": [
        "Configuramos los limites y asi identificamos los Outliers remplazandolos por el valor mas utilizado dentro de la Feature."
      ],
      "metadata": {
        "id": "XnbQ_BWGTPk4"
      }
    },
    {
      "cell_type": "code",
      "source": [
        "\n",
        "df_cars['compressionratio'].mode()  \n",
        "df_cars['compressionratio']=df_cars['compressionratio'].apply(lambda x: 11.0 if x>11.0 else x)\n",
        "\n",
        "df_cars['horsepower']=df_cars['horsepower'].apply(lambda x: 120 if x>200 else x)\n",
        "\n",
        "df_cars['horsepower'].mode() \n",
        "df_cars['horsepower']=df_cars['horsepower'].apply(lambda x: 68 if x>190 else x)\n",
        "\n",
        "df_cars['carwidth'].mode()  \n",
        "df_cars['carwidth']=df_cars['carwidth'].apply(lambda x: 70 if x>71 else x)\n",
        "\n",
        "df_cars['price'].mode() \n",
        "df_cars['price']=df_cars['price'].apply(lambda x: 30000 if x>30000 else x)\n",
        "\n",
        "df_cars['enginesize'].mode()  \n",
        "df_cars['enginesize']=df_cars['enginesize'].apply(lambda x: 200 if x>200 else x)\n",
        "\n",
        " "
      ],
      "metadata": {
        "id": "aQlec8XmQ5Kb"
      },
      "execution_count": null,
      "outputs": []
    },
    {
      "cell_type": "markdown",
      "source": [
        "# **Feature Selection**"
      ],
      "metadata": {
        "id": "9elcwCEfUEjj"
      }
    },
    {
      "cell_type": "markdown",
      "source": [
        "-Quitamos las variables tipo object y no numericas.\n",
        "\n",
        "-Luego definimos:\n",
        " \n",
        "X (Features numericas)  \n",
        "Y (Precio)."
      ],
      "metadata": {
        "id": "SG30csuFy0Q4"
      }
    },
    {
      "cell_type": "code",
      "source": [
        "df_cars.drop(['fueltypes', \n",
        "                'unique_name', 'aspiration', 'doornumbers', 'carbody', 'drivewheels',\n",
        "               'enginelocation', 'enginetype', 'cylindernumber', 'fuelsystem'], axis=1, inplace=True)\n",
        "\n",
        "X = df_cars.drop(\"price\", 1)      \n",
        "Y = df_cars['price']  "
      ],
      "metadata": {
        "colab": {
          "base_uri": "https://localhost:8080/"
        },
        "id": "bx0xv2eibt5W",
        "outputId": "1b0bf552-7194-4621-d19e-2ab927a61071"
      },
      "execution_count": null,
      "outputs": [
        {
          "output_type": "stream",
          "name": "stderr",
          "text": [
            "/usr/local/lib/python3.7/dist-packages/ipykernel_launcher.py:5: FutureWarning: In a future version of pandas all arguments of DataFrame.drop except for the argument 'labels' will be keyword-only\n",
            "  \"\"\"\n"
          ]
        }
      ]
    },
    {
      "cell_type": "markdown",
      "source": [
        "Elegimos el Modelo Fordward Selection"
      ],
      "metadata": {
        "id": "JeZFDBbuzQMw"
      }
    },
    {
      "cell_type": "code",
      "source": [
        "import statsmodels.api as sm\n",
        "def forward_selection(data, target, significance_level=0.01):\n",
        "    initial_features = data.columns.tolist()\n",
        "    best_features = []\n",
        "    while (len(initial_features)>0):\n",
        "        remaining_features = list(set(initial_features)-set(best_features))\n",
        "        new_pval = pd.Series(index=remaining_features)\n",
        "        for new_column in remaining_features:\n",
        "            model = sm.OLS(target, sm.add_constant(data[best_features+[new_column]])).fit()\n",
        "            new_pval[new_column] = model.pvalues[new_column]\n",
        "        min_p_value = new_pval.min()\n",
        "        if(min_p_value<significance_level):\n",
        "            best_features.append(new_pval.idxmin())\n",
        "        else:\n",
        "            break\n",
        "    return best_features"
      ],
      "metadata": {
        "id": "rDPwotUnbu7G"
      },
      "execution_count": null,
      "outputs": []
    },
    {
      "cell_type": "code",
      "source": [
        "forward_selection(X,Y)"
      ],
      "metadata": {
        "id": "PcQevADSGnoO"
      },
      "execution_count": null,
      "outputs": []
    },
    {
      "cell_type": "markdown",
      "source": [
        "El modelo forward selection nos dio como resultado las features: \n",
        "**'curbweight', 'enginesize', 'peakrpm', 'stroke'**.\n",
        "\n",
        "Las asignamos a un dataframe nuevo para utilizarlas para entrenar el algoritmo de Regresión."
      ],
      "metadata": {
        "id": "3VoBkTJtzVnH"
      }
    },
    {
      "cell_type": "code",
      "source": [
        "['curbweight', 'enginesize', 'peakrpm', 'stroke']\n",
        "\n",
        "df_cars2 = df_cars[['curbweight', 'enginesize', 'peakrpm', 'stroke']]\n",
        "\n",
        "X = df_cars2    \n",
        "Y = df_cars['price']  "
      ],
      "metadata": {
        "id": "KElFo6gLRPg8"
      },
      "execution_count": null,
      "outputs": []
    },
    {
      "cell_type": "markdown",
      "source": [
        "# **Algoritmo de Regresión / Cálculo de métricas**"
      ],
      "metadata": {
        "id": "qrd3LJUpiH3P"
      }
    },
    {
      "cell_type": "code",
      "source": [
        "X_train,X_test,Y_train,Y_test = train_test_split(X,Y,test_size=0.3,random_state=2)\n",
        "\n",
        "lr = LinearRegression()\n",
        "\n",
        "lr.fit(X_train,Y_train)\n",
        "\n",
        "Y_pred = lr.predict(X_test)\n"
      ],
      "metadata": {
        "id": "i8vfSYHjPlgZ"
      },
      "execution_count": null,
      "outputs": []
    },
    {
      "cell_type": "code",
      "source": [
        "print(\"MAE\",mean_absolute_error(Y_test,Y_pred))"
      ],
      "metadata": {
        "colab": {
          "base_uri": "https://localhost:8080/"
        },
        "id": "3bdB2M1WRKLs",
        "outputId": "3acaf269-47cf-42cc-de95-112d5177ee01"
      },
      "execution_count": null,
      "outputs": [
        {
          "output_type": "stream",
          "name": "stdout",
          "text": [
            "MAE 2404.688479354108\n"
          ]
        }
      ]
    },
    {
      "cell_type": "code",
      "source": [
        "print(\"RMSE\",np.sqrt(mean_squared_error(Y_test,Y_pred)))"
      ],
      "metadata": {
        "colab": {
          "base_uri": "https://localhost:8080/"
        },
        "id": "B7TIe2ceKEGO",
        "outputId": "141e725c-a5d3-40c3-c8ec-a7fbe88bdae5"
      },
      "execution_count": null,
      "outputs": [
        {
          "output_type": "stream",
          "name": "stdout",
          "text": [
            "RMSE 3068.050453733442\n"
          ]
        }
      ]
    },
    {
      "cell_type": "code",
      "source": [
        "print(\"RMSE\",np.log(np.sqrt(mean_squared_error(Y_test,Y_pred)))) "
      ],
      "metadata": {
        "colab": {
          "base_uri": "https://localhost:8080/"
        },
        "id": "imth0rs3SkUc",
        "outputId": "2931c917-4733-45cb-8be9-5b7998bb32ef"
      },
      "execution_count": null,
      "outputs": [
        {
          "output_type": "stream",
          "name": "stdout",
          "text": [
            "RMSE 8.028797607506243\n"
          ]
        }
      ]
    },
    {
      "cell_type": "markdown",
      "source": [
        "## R-cuadrado\n",
        "R-cuadrado tiene la propiedad útil de que su escala es intuitiva, va de 0 a 1. La interpretación que obtenemos frente a esta metrica  r-cuadrado es que el modelo tiene el 75 % de precision. El cual, podria mejorar aunque, el nivel de confiabilidad es alto."
      ],
      "metadata": {
        "id": "v6yx16lQmOO_"
      }
    },
    {
      "cell_type": "code",
      "source": [
        "r2 = r2_score(Y_test,Y_pred)\n",
        "print(r2)"
      ],
      "metadata": {
        "colab": {
          "base_uri": "https://localhost:8080/"
        },
        "id": "K1Xu4nkuSoPy",
        "outputId": "9c91e71c-25e3-4429-9d90-0eaca1ac887a"
      },
      "execution_count": null,
      "outputs": [
        {
          "output_type": "stream",
          "name": "stdout",
          "text": [
            "0.7533108768053156\n"
          ]
        }
      ]
    },
    {
      "cell_type": "markdown",
      "source": [
        "# **Underfitting y Evaluación de modelos apropiados para el problema**"
      ],
      "metadata": {
        "id": "U_o1oc_cLVAO"
      }
    },
    {
      "cell_type": "markdown",
      "source": [
        "\n",
        "Podemos encontrarnos frente a una situación de Underfitting por la siguiente razón:\n",
        "\n",
        "Si bien, quitamos outliers para mejorar la precisión del modelo, este mismo fue entrenado con todas las marcas de vehículos, esto involucra marcas de gama media/alta y alta. \n",
        "\n",
        "El cliente aspira a la creación de un vehículo de gama baja o baja/mediana para hacer su primera aproximación a un mercado que no conoce.\n",
        "\n",
        "Al ya nosotros tener identificado el target, podemos solamente entrenar el modelo con las marcas que mas se aproximen al target de gama que el cliente desea y tener mayor precisión sobre la competencia y el precio predicho.\n",
        "\n",
        "\n"
      ],
      "metadata": {
        "id": "6b4InJaYNSDb"
      }
    },
    {
      "cell_type": "markdown",
      "source": [
        "Para solucionar el problema de Underfitting anteriormente planteado, podríamos armar un modelo de clasificación para poder identificar quienes en el mercado son nuestra competencia y quienes no, para tener en consideración con que features podemos entrenar el Modelo para ir alcanzando mayor precisión."
      ],
      "metadata": {
        "id": "UZ3Wj4N7VqTI"
      }
    }
  ]
}